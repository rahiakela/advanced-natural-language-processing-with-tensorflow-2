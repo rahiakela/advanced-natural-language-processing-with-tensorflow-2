{
  "nbformat": 4,
  "nbformat_minor": 0,
  "metadata": {
    "colab": {
      "name": "1-named-entity-recognition-with-BiLSTM.ipynb",
      "provenance": [],
      "toc_visible": true,
      "authorship_tag": "ABX9TyO/T4P4O5ZCzTYCnQ8x+Pp6",
      "include_colab_link": true
    },
    "kernelspec": {
      "name": "python3",
      "display_name": "Python 3"
    },
    "language_info": {
      "name": "python"
    },
    "accelerator": "GPU"
  },
  "cells": [
    {
      "cell_type": "markdown",
      "metadata": {
        "id": "view-in-github",
        "colab_type": "text"
      },
      "source": [
        "<a href=\"https://colab.research.google.com/github/rahiakela/advanced-natural-language-processing-with-tensorflow-2/blob/main/3-named-entity-recognition/1_named_entity_recognition_with_BiLSTM.ipynb\" target=\"_parent\"><img src=\"https://colab.research.google.com/assets/colab-badge.svg\" alt=\"Open In Colab\"/></a>"
      ]
    },
    {
      "cell_type": "markdown",
      "metadata": {
        "id": "Ie5BQVSb8HSG"
      },
      "source": [
        "## Named Entity Recognition with BiLSTM"
      ]
    },
    {
      "cell_type": "markdown",
      "metadata": {
        "id": "RYgOSjly8UPB"
      },
      "source": [
        "One of the fundamental building blocks of NLU is **Named Entity Recognition\n",
        "(NER)**. The names of people, companies, products, and quantities can be tagged in a piece of text with NER, which is very useful in chatbot applications and many other use cases in information retrieval and extraction.\n",
        "\n",
        "Building and training a model capable of doing NER requires several techniques, such as **Conditional Random Fields (CRFs)** and **Bi-directional LSTMs(BiLSTMs)**.\n",
        "\n"
      ]
    },
    {
      "cell_type": "markdown",
      "metadata": {
        "id": "nsI96aaV8zfx"
      },
      "source": [
        "## Named Entity Recognition"
      ]
    },
    {
      "cell_type": "markdown",
      "metadata": {
        "id": "ljnBvMUK80sA"
      },
      "source": [
        "Given a sentence or a piece of text, the objective of an NER model is to locate and classify text tokens as named entities in categories such as people's names, organizations and companies, physical locations, quantities, monetary quantities, times, dates, and even protein or DNA sequences. \n",
        "\n",
        "NER should tag the following sentence:\n",
        "\n",
        "```\n",
        "Ashish paid Uber $80 to go to the Twitter offices in San Francisco.\n",
        "```\n",
        "\n",
        "as follows:\n",
        "\n",
        "$$\n",
        "[Ashish]_{PER} \\space paid \\space [Uber]_{ORG} \\space [$80]_{MONEY} \\space to \\space go \\space to \\space the \\space [Twitter]_{ORG} \\space offices \\space in \\space [San Francisco]_{LOC}.\n",
        "$$\n",
        "\n",
        "The most common tags are listed in the table below:\n",
        "\n",
        "| **Type** | Example Tag | Example |\n",
        "|---|---|---|\n",
        "| Person | PER | Gregory went to the castle. |\n",
        "| Organization | ORG | WHO just issued an epidemic advisory.|\n",
        "| Location | LOC | She lives in Seattle. |\n",
        "| Money | MONEY | You owe me twenty dollars. |\n",
        "| Percentage | PERCENT | Stocks have risen 10% today. |\n",
        "| Date | DATE | Let's meet on Wednesday. |\n",
        "| Time | TIME | Is it 5 pm already? |\n",
        "\n",
        "There are different data sets and tagging schemes that can be used to train NER models. Different data sets will have different subsets of the tags.\n",
        "\n",
        "There are a few different ways to build an NER model. If the sentence is considered a sequence, then this task can be modeled as a word-by-word labeling task.\n",
        "\n",
        "Hence, models similar to the models used for Part of Speech (POS) tagging are applicable. Features can be added to a model to improve labeling. The POS of a word and its neighboring words are the most straightforward features to add. Word shape features that model lowercase letters can add a lot of information, principally because a lot of the entity types deal with proper nouns, such as those for people and organizations.\n",
        "\n",
        "Another vital feature involves checking a word in a gazetteer. A gazetteer is like a database of important geographical entities."
      ]
    },
    {
      "cell_type": "markdown",
      "metadata": {
        "id": "AA2OC1OI-ace"
      },
      "source": [
        "## Setup"
      ]
    },
    {
      "cell_type": "code",
      "metadata": {
        "id": "tQsSsqzh6qbJ"
      },
      "source": [
        "!pip install tensorflow-addons"
      ],
      "execution_count": null,
      "outputs": []
    },
    {
      "cell_type": "code",
      "metadata": {
        "id": "LSGcXyuLAfho",
        "outputId": "d864ed42-0e54-433e-ccd9-a03fa2fc736d",
        "colab": {
          "base_uri": "https://localhost:8080/",
          "height": 35
        }
      },
      "source": [
        "import tensorflow as tf\n",
        "import tensorflow_datasets as tfds\n",
        "import tensorflow_addons as tfa\n",
        "from tensorflow.keras.preprocessing.text import Tokenizer\n",
        "from tensorflow.keras.preprocessing import sequence\n",
        "from tensorflow.keras import Model, Input, Sequential\n",
        "from tensorflow.keras.layers import Embedding, Bidirectional, LSTM, TimeDistributed, Dense, Dropout\n",
        "from tensorflow.keras.layers import Layer\n",
        "from tensorflow.keras import backend as K\n",
        "\n",
        "import numpy as np\n",
        "import pandas as pd\n",
        "\n",
        "import os\n",
        "import csv\n",
        "import collections\n",
        "import glob\n",
        "import matplotlib.pyplot as plt\n",
        "\n",
        "tf.__version__"
      ],
      "execution_count": 3,
      "outputs": [
        {
          "output_type": "execute_result",
          "data": {
            "application/vnd.google.colaboratory.intrinsic+json": {
              "type": "string"
            },
            "text/plain": [
              "'2.4.1'"
            ]
          },
          "metadata": {
            "tags": []
          },
          "execution_count": 3
        }
      ]
    },
    {
      "cell_type": "code",
      "metadata": {
        "id": "KxKONS2lAlxc",
        "outputId": "7376adee-5121-4a41-fb0c-508e259d7a2f",
        "colab": {
          "base_uri": "https://localhost:8080/",
          "height": 35
        }
      },
      "source": [
        "tfds.__version__"
      ],
      "execution_count": 4,
      "outputs": [
        {
          "output_type": "execute_result",
          "data": {
            "application/vnd.google.colaboratory.intrinsic+json": {
              "type": "string"
            },
            "text/plain": [
              "'4.0.1'"
            ]
          },
          "metadata": {
            "tags": []
          },
          "execution_count": 4
        }
      ]
    },
    {
      "cell_type": "code",
      "metadata": {
        "id": "50FcUmjAAnmb",
        "outputId": "c8fc746c-5871-482a-a2c4-7a51570619b1",
        "colab": {
          "base_uri": "https://localhost:8080/"
        }
      },
      "source": [
        "######## GPU CONFIGS FOR RTX 2070 ###############\n",
        "## Please ignore if not training on GPU       ##\n",
        "## this is important for running CuDNN on GPU ##\n",
        "\n",
        "tf.keras.backend.clear_session() #- for easy reset of notebook state\n",
        "\n",
        "# chck if GPU can be seen by TF\n",
        "tf.config.list_physical_devices('GPU')\n",
        "# only if you want to see how commands are executed, uncomment below\n",
        "# tf.debugging.set_log_device_placement(True)\n",
        "gpus = tf.config.experimental.list_physical_devices('GPU')\n",
        "if gpus:\n",
        "  # Restrict TensorFlow to only use the first GPU\n",
        "  try:\n",
        "    tf.config.experimental.set_memory_growth(gpus[0], True)\n",
        "    tf.config.experimental.set_visible_devices(gpus[0], 'GPU')\n",
        "    logical_gpus = tf.config.experimental.list_logical_devices('GPU')\n",
        "    print(len(gpus), \"Physical GPUs,\", len(logical_gpus), \"Logical GPU\")\n",
        "  except RuntimeError as e:\n",
        "    # Visible devices must be set before GPUs have been initialized\n",
        "    print(e)\n",
        "###############################################"
      ],
      "execution_count": 5,
      "outputs": [
        {
          "output_type": "stream",
          "text": [
            "1 Physical GPUs, 1 Logical GPU\n"
          ],
          "name": "stdout"
        }
      ]
    },
    {
      "cell_type": "code",
      "metadata": {
        "id": "OQagKbU9BCF7"
      },
      "source": [
        "%%shell\n",
        "\n",
        "wget https://gmb.let.rug.nl/releases/gmb-2.2.0.zip\n",
        "\n",
        "# !unzip -o gmb-2.2.0.zip  <= use the -o to expand and overwrite whtout prompting\n",
        "unzip gmb-2.2.0.zip\n",
        "rm -rf gmb-2.2.0.zip"
      ],
      "execution_count": null,
      "outputs": []
    },
    {
      "cell_type": "markdown",
      "metadata": {
        "id": "hMDJSmCHCd9e"
      },
      "source": [
        "## Loading the data"
      ]
    },
    {
      "cell_type": "markdown",
      "metadata": {
        "id": "d-QLg74QCe_C"
      },
      "source": [
        "**The GMB data set**\n",
        "\n",
        "With all the basics in the bag, we are ready to build a model that classifies NERs. For this task, the Groningen Meaning Bank (GMB) data set will be used. This dataset is not considered a gold standard.\n",
        "\n",
        "Also note that since we are going to be working on large data sets, some of the following steps may take some time to execute. In the world of Natural Language Processing (NLP), more training data and training time is key to great results.\n",
        "\n",
        "The data subfolder has a number of subfolders with different files. README supplied with the data set provides details about the various files and their contents. For this example, we will be using only files named en.tags in various subdirectories. These files are tab-separated files with\n",
        "each word of a sentence in a row.\n",
        "\n",
        "Out of lots of fields, we are going to use only the token and the named entity tag."
      ]
    },
    {
      "cell_type": "code",
      "metadata": {
        "id": "tJp-SOUyBOII"
      },
      "source": [
        "data_root = './gmb-2.2.0/data/'\n",
        "\n",
        "fnames = []\n",
        "for root, dirs, files in os.walk(data_root):\n",
        "    for filename in files:\n",
        "        if filename.endswith(\".tags\"):\n",
        "            fnames.append(os.path.join(root, filename))"
      ],
      "execution_count": 9,
      "outputs": []
    },
    {
      "cell_type": "code",
      "metadata": {
        "id": "aaS2rfp9BP-Z",
        "outputId": "ed5cd6e0-61be-48f3-a8cf-844820677e32",
        "colab": {
          "base_uri": "https://localhost:8080/"
        }
      },
      "source": [
        "fnames[:2]"
      ],
      "execution_count": 10,
      "outputs": [
        {
          "output_type": "execute_result",
          "data": {
            "text/plain": [
              "['./gmb-2.2.0/data/p50/d0018/en.tags', './gmb-2.2.0/data/p50/d0133/en.tags']"
            ]
          },
          "metadata": {
            "tags": []
          },
          "execution_count": 10
        }
      ]
    },
    {
      "cell_type": "markdown",
      "metadata": {
        "id": "RtUMbY9E73cm"
      },
      "source": [
        "A few processing steps need to happen. Each file has a number of sentences, with each words in a row. The entire sentence as a sequence and the corresponding sequence of NER tags need to be fed in as inputs while training the model. As mentioned, the NER tags also need to be simplified to the top-level entities only. Secondly, the NER tags need to be converted to the IOB format. IOB stands for In-Other-Begin. These letters are used as a prefix to the NER tag. The sentence fragment in the table below shows how this scheme works:\n",
        "\n",
        "```\n",
        "Reverend Terry Jones arrived in New    York\n",
        "B-per    I-per I-per O       O  B-geo  I-geo\n",
        "```\n",
        "\n",
        "Note that New York\n",
        "is one location. As soon as New is encountered, it marks the start of the geo NER\n",
        "tag, hence it is assigned B-geo. The next word is York, which is a continuation of\n",
        "the same geographical entity. For any network, classifying the word New as the\n",
        "start of the geographical entity is going to be very challenging. However, a BiLSTM\n",
        "network would be able to see the succeeding words, which helps quite a bit with\n",
        "disambiguation.\n",
        "\n"
      ]
    },
    {
      "cell_type": "code",
      "metadata": {
        "id": "DH2HOzLtBQZ0"
      },
      "source": [
        "# First, create a directory to store all the processed files\n",
        "!mkdir ner"
      ],
      "execution_count": 11,
      "outputs": []
    },
    {
      "cell_type": "markdown",
      "metadata": {
        "id": "s_tVvxKl8pQB"
      },
      "source": [
        "We want to process the tags so that we strip the subcategories of the NER tags out. It would also be nice to collect some stats on the types of tags in the documents."
      ]
    },
    {
      "cell_type": "code",
      "metadata": {
        "id": "k1jIxkmY8rTK"
      },
      "source": [
        "ner_tags = collections.Counter()\n",
        "iob_tags = collections.Counter()\n",
        "\n",
        "\n",
        "def strip_ner_subcat(tag):\n",
        "  # NER tags are of form {cat}-{subcat} eg tim-dow. We only want first part\n",
        "  return tag.split(\"-\")[0]"
      ],
      "execution_count": 13,
      "outputs": []
    },
    {
      "cell_type": "markdown",
      "metadata": {
        "id": "pLoIR2369IDO"
      },
      "source": [
        "The next method takes a sequence of tags and converts them into IOB format."
      ]
    },
    {
      "cell_type": "code",
      "metadata": {
        "id": "fV_q5H9U9KHC"
      },
      "source": [
        "def iob_format(ners):\n",
        "  # converts IO tags into IOB format\n",
        "  # input is a sequence of IO NER tokens\n",
        "  # convert this: O, PERSON, PERSON, O, O, LOCATION, O\n",
        "  # into: O, B-PERSON, I-PERSON, O, O, B-LOCATION, O\n",
        "  iob_tokens = []\n",
        "\n",
        "  for idx, token in enumerate(ners):\n",
        "    if token != \"O\":    # !other\n",
        "      if idx == 0:\n",
        "        token = \"B-\" + token  # start of sentence\n",
        "      elif ners[idx - 1] == token:\n",
        "        token = \"I-\" + token  # continues\n",
        "      else:\n",
        "        token = \"B-\" + token\n",
        "\n",
        "    iob_tokens.append(token)\n",
        "    iob_tags[token] += 1\n",
        "  return iob_tokens"
      ],
      "execution_count": 14,
      "outputs": []
    },
    {
      "cell_type": "markdown",
      "metadata": {
        "id": "8JPs5iDTEUNe"
      },
      "source": [
        "Once these two convenience functions are ready, all the tags files need to be read and processed."
      ]
    },
    {
      "cell_type": "code",
      "metadata": {
        "id": "Dfw7oiw5EWFX"
      },
      "source": [
        "total_sentences = 0\n",
        "outfiles = []\n",
        "\n",
        "for idx, file in enumerate(fnames):\n",
        "  with open(file, \"rb\") as content:\n",
        "    data = content.read().decode(\"utf-8\").strip()\n",
        "    sentences = data.split(\"\\n\\n\")\n",
        "    print(idx, file, len(sentences))\n",
        "    total_sentences += len(sentences)\n",
        "\n",
        "    with open(\"./ner/\" + str(idx) + \"-\" + os.path.basename(file), \"w\") as outfile:\n",
        "      outfiles.append(\"./ner/\" + str(idx) + \"-\" + os.path.basename(file))\n",
        "      writer = csv.writer(outfile)\n",
        "\n",
        "      for sentence in sentences:\n",
        "        toks = sentence.split(\"\\n\")\n",
        "        words, pos, ner = [], [], []\n",
        "        for tok in toks:\n",
        "          t = tok.split(\"\\t\")\n",
        "          words.append(t[0])\n",
        "          pos.append(t[1])\n",
        "          ner_tags[t[3]] += 1\n",
        "          ner.append(strip_ner_subcat(t[3]))\n",
        "      \n",
        "      writer.writerow([\" \".join(words), \" \".join(iob_format(ner)), \" \".join(pos)])"
      ],
      "execution_count": null,
      "outputs": []
    },
    {
      "cell_type": "markdown",
      "metadata": {
        "id": "z-1e-KqJHUTJ"
      },
      "source": [
        "Files are read and split into two empty newline characters. That is the marker\n",
        "for the end of a sentence in the file. Only the actual words, POS tokens, and NER tokens are used from the file. Once these are collected, a new CSV file is written with three columns: the sentence, a sequence of POS tags, and a sequence of NER tags."
      ]
    },
    {
      "cell_type": "code",
      "metadata": {
        "id": "xsgYknzQHZWe",
        "outputId": "23b6b182-627d-401a-98c6-47f9fbd3dd60",
        "colab": {
          "base_uri": "https://localhost:8080/"
        }
      },
      "source": [
        "print(\"total number of sentences:\", total_sentences)"
      ],
      "execution_count": 16,
      "outputs": [
        {
          "output_type": "stream",
          "text": [
            "total number of sentences: 62010\n"
          ],
          "name": "stdout"
        }
      ]
    },
    {
      "cell_type": "markdown",
      "metadata": {
        "id": "MKJEJKUdHplj"
      },
      "source": [
        "To confirm the distribution of the NER tags before and after processing."
      ]
    },
    {
      "cell_type": "code",
      "metadata": {
        "id": "OTM6QdkuHlLJ",
        "outputId": "c9cda0c3-639f-4f20-fe4c-cf354363529b",
        "colab": {
          "base_uri": "https://localhost:8080/"
        }
      },
      "source": [
        "print(ner_tags)\n",
        "print(iob_tags)"
      ],
      "execution_count": 17,
      "outputs": [
        {
          "output_type": "stream",
          "text": [
            "Counter({'O': 1146068, 'geo-nam': 58388, 'org-nam': 48034, 'per-nam': 23790, 'gpe-nam': 20680, 'tim-dat': 12786, 'tim-dow': 11404, 'per-tit': 9800, 'per-fam': 8152, 'tim-yoc': 5290, 'tim-moy': 4262, 'per-giv': 2413, 'tim-clo': 891, 'art-nam': 866, 'eve-nam': 602, 'nat-nam': 300, 'tim-nam': 146, 'eve-ord': 107, 'per-ini': 60, 'org-leg': 60, 'per-ord': 38, 'tim-dom': 10, 'art-add': 1, 'per-mid': 1})\n",
            "Counter({'O': 177805, 'B-geo': 7364, 'B-org': 4017, 'B-tim': 3734, 'B-per': 3195, 'I-per': 2983, 'B-gpe': 2769, 'I-org': 2575, 'I-geo': 1349, 'I-tim': 1336, 'B-art': 96, 'I-art': 77, 'B-eve': 51, 'I-gpe': 47, 'I-eve': 37, 'B-nat': 32, 'I-nat': 5})\n"
          ],
          "name": "stdout"
        }
      ]
    },
    {
      "cell_type": "markdown",
      "metadata": {
        "id": "W8813xDaH6Ya"
      },
      "source": [
        "As is evident, some tags were very infrequent, like tim-dom. It would be next to impossible for a network to learn them. Aggregating up one level helps increase the signal for these tags."
      ]
    },
    {
      "cell_type": "code",
      "metadata": {
        "id": "mtJQImWGJdkp"
      },
      "source": [
        "labels, values = zip(*iob_tags.items())"
      ],
      "execution_count": 18,
      "outputs": []
    },
    {
      "cell_type": "code",
      "metadata": {
        "id": "xf_NW68FJli-",
        "outputId": "ec4af353-9849-449b-fd83-2094a78bdd74",
        "colab": {
          "base_uri": "https://localhost:8080/",
          "height": 277
        }
      },
      "source": [
        "indexes = np.arange(len(labels))\n",
        "\n",
        "plt.bar(indexes, values)\n",
        "plt.xticks  (indexes, labels, rotation=\"vertical\")\n",
        "plt.margins(0.01)\n",
        "plt.subplots_adjust(bottom=0.15)\n",
        "plt.show()"
      ],
      "execution_count": 19,
      "outputs": [
        {
          "output_type": "display_data",
          "data": {
            "image/png": "[encoded data removed]",
            "text/plain": [
              "<Figure size 432x288 with 1 Axes>"
            ]
          },
          "metadata": {
            "tags": [],
            "needs_background": "light"
          }
        }
      ]
    },
    {
      "cell_type": "markdown",
      "metadata": {
        "id": "sH8vHVLOH-he"
      },
      "source": [
        "## Normalizing and vectorizing data"
      ]
    },
    {
      "cell_type": "markdown",
      "metadata": {
        "id": "lkdqTCKAH_Y3"
      },
      "source": [
        ""
      ]
    },
    {
      "cell_type": "code",
      "metadata": {
        "id": "iz_Y_ZT_Hu08"
      },
      "source": [
        ""
      ],
      "execution_count": null,
      "outputs": []
    }
  ]
}